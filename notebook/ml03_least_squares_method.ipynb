{
 "cells": [
  {
   "cell_type": "markdown",
   "metadata": {},
   "source": [
    "# §3. 最小二乗法\n",
    "\n",
    "今回は、線形回帰を求める手法「最小二乗法」について学んでいきます。"
   ]
  },
  {
   "cell_type": "markdown",
   "metadata": {},
   "source": [
    "## 1. 最小二乗法について\n",
    "\n",
    "### 1.1. 前回のおさらい\n",
    "\n",
    "以前に学習した単回帰モデルを求めるには、「**各点からなるべく近い位置を通る直線を求める**」という解説をしていました。\n",
    "\n",
    "図で確認するなら、以下のとおりです。"
   ]
  },
  {
   "cell_type": "code",
   "execution_count": 1,
   "metadata": {},
   "outputs": [],
   "source": [
    "import pandas as pd\n",
    "import matplotlib.pyplot as plt\n",
    "import seaborn as sns\n",
    "\n",
    "%matplotlib inline\n",
    "sns.set()"
   ]
  },
  {
   "cell_type": "code",
   "execution_count": 2,
   "metadata": {},
   "outputs": [
    {
     "data": {
      "image/png": "[encoded data removed]",
      "text/plain": [
       "<Figure size 720x432 with 1 Axes>"
      ]
     },
     "metadata": {},
     "output_type": "display_data"
    }
   ],
   "source": [
    "df = pd.DataFrame({'temperature':[28, 26, 20, 24, 22], 'sell':[10, 9, 4, 7, 5]})\n",
    "\n",
    "plt.figure(figsize=(10, 6))\n",
    "sns.regplot(x=df.temperature, y=df.sell, ci=0)\n",
    "plt.show()"
   ]
  },
  {
   "cell_type": "markdown",
   "metadata": {},
   "source": [
    "上の図のように、すべての点を通る直線は引けないので、**各点からなるべく近い位置を通る直線**を引いています。\n",
    "\n",
    "<br/>\n",
    "\n",
    "そして、この各点からなるべく近い位置を通る直線を求めるのに必要なアクションは、**『$y = w_0 + w_1 x_1$の$w_0$と$w_1$を求めること』**でした。\n",
    "\n",
    "ここで疑問になってくるのが、「*どうやって、$y = w_0 + w_1 x_1$の$w_0$と$w_1$を求めるんだろう*」です。\n",
    "\n",
    "<br/>\n",
    "\n",
    "プログラムで書いてしまえば、上の図のように勝手に出力してくれますが、、、とはいえ、どうやって計算されているのか心残りになります。\n",
    "\n",
    "そこで登場するのが、今回学習する**最小二乗法**です。最小二乗法を使えば、「各点からなるべく近い位置を通る直線(=すなわち単回帰モデル)」のパラメータ($w_0$と$w_1$)を求められます。"
   ]
  },
  {
   "cell_type": "markdown",
   "metadata": {},
   "source": [
    "### 1.2. 最小二乗法の式\n",
    "\n",
    "実際のデータを$y_i$、予測値を$\\hat{y_i}$とすると、最小二乗法の式は以下のようになります。\n",
    "\n",
    "$$\n",
    "\\begin{eqnarray}\n",
    "E(w, b) &=& \\frac{1}{2} \\sum_{i=1}^{N} (y_i - \\hat{y_i})^2\\\\\n",
    "&=& \\frac{1}{2} \\sum_{i=1}^{N} (y_i - (w x_i + b))^2\n",
    "\\end{eqnarray}\n",
    "$$\n",
    "\n",
    "つまり、「**実際のデータから予測値を引いたものを、二乗して足し合わせる**」ということになります。\n",
    "\n",
    "<br/>\n",
    "\n",
    "この$E(w, b)$が最小になる。\n",
    "\n",
    "すなわち、実際のデータと予測値の誤差を最小にできる$w$と$b$を求めれば、もともと欲しかった単回帰モデルを求めることができます。\n",
    "\n",
    "なお、$w$と$b$は公式が決まっているので、必要な値を求めて、あとは代入するだけでOKです。\n",
    "\n",
    "$$\n",
    "\\begin{eqnarray}\n",
    "w &=& \\frac{\\bar{xy}  - \\bar{y} \\times \\bar{x}}{\\left(\\bar{x^2} - \\bar{x} \\times \\bar{x} \\right)}\\\\\n",
    "b &=& \\bar{y} - w \\bar{x}\n",
    "\\end{eqnarray}\n",
    "$$\n",
    "\n",
    "*※なお、$\\displaystyle \\bar{x}$は「$x$の平均」という意味で、$\\displaystyle \\bar{x} = \\frac{1}{N} \\sum_{i=1}^{N} x_i$のことです。*"
   ]
  },
  {
   "cell_type": "markdown",
   "metadata": {},
   "source": [
    "### 1.3. 最小二乗法を手計算で計算する\n",
    "\n",
    "*少し難しいので、スキップしてもOKです。*\n",
    "\n",
    "$w$と$b$を求めるには、最小二乗法の式$\\displaystyle E(w, b) = \\frac{1}{2} \\sum_{i=1}^{N} (y_i - (w x_i + b))^2$を最小にする必要があります。\n",
    "\n",
    "最小二乗法の式を\"最小\"にできれば、それは「実際のデータと予測値の誤差を最小にできて、より正確な単回帰モデルを作成できる」ということになるわけです。\n",
    "\n",
    "<br/>\n",
    "\n",
    "そして、**最小二乗法の良いところは「解析的に求まる(=数式の変形だけで解ける)こと」**です。\n",
    "\n",
    "なので、今回は実際に、$w$と$b$の値を、数式の変形だけで求めていきましょう。$E(w, b)$を最小にする$w$と$b$を求めるには、$E(w, b)$が最小になる、すなわち「**$E(w, b)$を微分したらゼロになる点を求める**」ということになります。\n",
    "\n",
    "*「微分してゼロになる点が最小になる」という部分は、そういうものなんだ〜と認識して頂けたらと。*\n",
    "\n",
    "<br/>\n",
    "\n",
    "まずは、最小二乗法の式$E(w, b)$を$b$で微分しましょう。そして、$\\displaystyle \\frac{\\partial E}{\\partial b}=0$を計算することで、微分してゼロになる$b$を求めていきます。\n",
    "\n",
    "$$\n",
    "\\begin{eqnarray}\n",
    "\\frac{\\partial E}{\\partial b} &=& \\frac{1}{2} \\sum_{i=1}^{N} 2 \\times (y_i - (w x_i + b)) \\times (-1)\\\\\n",
    "&=&\\sum_{i=1}^{N}  (- y_i + w x_i + b)\\\\\n",
    "&=& 0\n",
    "\\end{eqnarray}\n",
    "$$\n",
    "\n",
    "計算すると、上記のようになります。$\\displaystyle \\sum_{i=1}^{N}$は、$i$に関係しない部分は、単純に$N$個足し合わせるだけなので、結局以下のような式変形になります。\n",
    "\n",
    "$$\n",
    "\\begin{eqnarray}\n",
    "\\sum_{i=1}^{N}  (- y_i + w x_i + b) &=& - \\sum_{i=1}^{N} y_i + w \\sum_{i=1}^{N} x_i + bN \\\\\n",
    "&=& 0\n",
    "\\end{eqnarray}\n",
    "$$\n",
    "\n",
    "$\\displaystyle \\sum_{i=1}^{N}$の式を右辺に移行しましょう。すると、以下のようになります。\n",
    "\n",
    "$$bN = \\sum_{i=1}^{N} y_i - w \\sum_{i=1}^{N} x_i $$\n",
    "\n",
    "ここで両辺を$N$で割れば、以下の式になります。\n",
    "\n",
    "$$b = \\frac{1}{N} \\sum_{i=1}^{N} y_i - w \\frac{1}{N} \\sum_{i=1}^{N} x_i \\tag{1}$$\n",
    "\n",
    "「$b=$」の式を導出できました。ここで、$\\displaystyle \\frac{1}{N} \\sum_{i=1}^{N} y_i$は、$N$個足し合わせて、$N$で割っているので、要するに「平均」になります。\n",
    "\n",
    "平均$\\displaystyle \\frac{1}{N} \\sum_{i=1}^{N} y_i$を、$\\bar{y}$で表せば、式(1)は以下のようになります。\n",
    "\n",
    "$$b = \\bar{y} - w \\bar{x} \\tag{2}$$\n",
    "\n",
    "これで$b$が求まる、、、と思いきや、式の中には$w$が入っています。\n",
    "\n",
    "$w$はこれから求めないと分からない部分なので、$b$のときと同様に、最小二乗法の式$E(w, b)$を$w$で微分しましょう。\n",
    "\n",
    "$$\n",
    "\\begin{eqnarray}\n",
    "\\frac{\\partial E}{\\partial w} &=& \\frac{1}{2} \\sum_{i=1}^{N} 2 \\times (y_i - (w x_i + b)) \\times (- x_i) \\\\\n",
    "&=& \\sum_{i=1}^{N}  (- x_i y_i + w {x_i}^2 + b x_i) \\\\\n",
    "&=& 0\n",
    "\\end{eqnarray}\n",
    "$$\n",
    "\n",
    "ちょっと余計な部分を前に出してあげましょう。\n",
    "\n",
    "\n",
    "$$\n",
    "\\begin{eqnarray}\n",
    "\\sum_{i=1}^{N}  (- x_i y_i + w {x_i}^2 + b x_i) &=& - \\sum_{i=1}^{N} x_i y_i + w\\sum_{i=1}^{N} {x_i}^2 + b \\sum_{i=1}^{N} x_i \\tag{3}\\\\\n",
    "&=& 0\n",
    "\\end{eqnarray}\n",
    "$$\n",
    "\n",
    "\n",
    "ここで、先ほど求めた式(2)を、式(3)に代入してあげましょう。\n",
    "$$\n",
    "\\begin{eqnarray}\n",
    "- \\sum_{i=1}^{N} x_i y_i + w\\sum_{i=1}^{N} {x_i}^2 + b \\sum_{i=1}^{N} x_i &=& - \\sum_{i=1}^{N} x_i y_i + w\\sum_{i=1}^{N} {x_i}^2 + (\\bar{y} - w \\bar{x}) \\sum_{i=1}^{N} x_i \\\\\n",
    "&=& - \\sum_{i=1}^{N} x_i y_i + w\\sum_{i=1}^{N} {x_i}^2 + \\bar{y} \\sum_{i=1}^{N} x_i  - w \\bar{x} \\sum_{i=1}^{N} x_i \\\\\n",
    "&=& - \\sum_{i=1}^{N} x_i y_i + \\bar{y} \\sum_{i=1}^{N} x_i + w\\sum_{i=1}^{N} {x_i}^2 - w \\bar{x} \\sum_{i=1}^{N} x_i \\\\\n",
    "&=& - \\sum_{i=1}^{N} x_i y_i + \\bar{y} \\sum_{i=1}^{N} x_i + w \\left( \\sum_{i=1}^{N} {x_i}^2 - \\bar{x} \\sum_{i=1}^{N} x_i \\right) \\\\\n",
    "&=& 0\n",
    "\\end{eqnarray}\n",
    "$$\n",
    "\n",
    "代入して変形していくと、上記のようになります。\n",
    "\n",
    "この最後の式を$N$で割ってあげましょう。そうすると、ふたたび平均$\\displaystyle \\bar{y} = \\frac{1}{N} \\sum_{i=1}^{N} y_i$の形で表せます。\n",
    "\n",
    "$$\n",
    "\\begin{eqnarray}\n",
    "- \\sum_{i=1}^{N} x_i y_i + \\bar{y} \\sum_{i=1}^{N} x_i + w \\left( \\sum_{i=1}^{N} {x_i}^2 - \\bar{x} \\sum_{i=1}^{N} x_i \\right) &=& 0\\\\\n",
    "- \\frac{1}{N} \\sum_{i=1}^{N} x_i y_i + \\bar{y} \\frac{1}{N} \\sum_{i=1}^{N} x_i + w \\left(\\frac{1}{N} \\sum_{i=1}^{N} {x_i}^2 - \\bar{x} \\frac{1}{N} \\sum_{i=1}^{N} x_i \\right) &=& 0 \\\\\n",
    "-\\bar{xy}  + \\bar{y} \\times \\bar{x} + w \\left(\\bar{x^2}  - \\bar{x} \\times \\bar{x} \\right) &=& 0 \\\\\n",
    "\\end{eqnarray}\n",
    "$$\n",
    "\n",
    "かなり簡潔な形になってきましたね。あとはこれを、$w=$の形にするだけで完了です。\n",
    "\n",
    "$$\n",
    "\\begin{eqnarray}\n",
    "- \\bar{xy}  + \\bar{y} \\times \\bar{x} + w \\left(\\bar{x^2}  - \\bar{x} \\times \\bar{x} \\right) &=& 0 \\\\\n",
    "w \\left(\\bar{x^2}  - \\bar{x} \\times \\bar{x} \\right) &=& \\bar{xy}  - \\bar{y} \\times \\bar{x}\\\\\n",
    "w &=& \\frac{\\bar{xy}  - \\bar{y} \\times \\bar{x}}{\\left(\\bar{x^2} - \\bar{x} \\times \\bar{x} \\right)} \\tag{4}\n",
    "\\end{eqnarray}\n",
    "$$\n",
    "\n",
    "これで$w$が完成しました。今回は右辺に$b$がないので、データ$(x, y)$があれば手計算できますね。\n",
    "\n",
    "$b$を求めるときは、\n",
    "\n",
    "- ①$w$を求める\n",
    "- ②$w$を使って$b$を求める\n",
    "\n",
    "上記の手順で求めればOKです。"
   ]
  },
  {
   "cell_type": "markdown",
   "metadata": {},
   "source": [
    "### 1.4. 最小二乗法を、さらに簡潔にする\n",
    "\n",
    "最小二乗法で求めたい$w$と$b$は、$E(w,b)$を微分してゼロになることを利用して、以下のように求めることができました。\n",
    "\n",
    "$$\n",
    "\\begin{eqnarray}\n",
    "w &=& \\frac{\\bar{xy}  - \\bar{y} \\times \\bar{x}}{\\left(\\bar{x^2} - \\bar{x} \\times \\bar{x} \\right)}\\\\\n",
    "b &=& \\bar{y} - w \\bar{x}\n",
    "\\end{eqnarray}\n",
    "$$\n",
    "\n",
    "この式ですが、確率の知識を使うと、さらに式を簡略化できます。\n",
    "\n",
    "- $\\bar{xy}  - \\bar{y} \\times \\bar{x}$ : 共分散( $Cov(x, y)$ )\n",
    "- $\\bar{x^2} - \\bar{x} \\times \\bar{x}$ : 分散( $V(x)$ )\n",
    "\n",
    "分散は、データのばらつき具合を表す指標で、「分散が大きい」とデータのばらつきが大きいということになります。なお、分散は「ばらつき具合」なので、マイナスになることはありません。必ず$0$以上の値を取ります。\n",
    "\n",
    "共分散$Cov(x, y)$は、$x$と$y$の関連の強さを表す指標です。\n",
    "\n",
    "- 共分散がプラス : $x$が大きいと$y$も大きい\n",
    "- 共分散がゼロ : $x$と$y$の大小に直接的な意味はない\n",
    "- 共分散がマイナス : $x$が大きいと$y$は小さくなる\n",
    "\n",
    "\n",
    "上記のような意味になります。\n",
    "\n",
    "<br/>\n",
    "\n",
    "この分散と共分散を使えば、最終的に最小二乗法で求めたい$w$と$b$は以下のようになります。\n",
    "\n",
    "$$\n",
    "\\begin{eqnarray}\n",
    "w &=& \\frac{Cov(x, y)}{V(x)}\\\\\n",
    "b &=& \\bar{y} - w \\bar{x}\n",
    "\\end{eqnarray}\n",
    "$$"
   ]
  },
  {
   "cell_type": "markdown",
   "metadata": {},
   "source": [
    "## 2. 最小二乗法をPythonで計算する\n",
    "\n",
    "前回の単回帰モデルで、以下の式を導出しました。\n",
    "\n",
    "$$y =  -36.476 + 9.3764 x$$\n",
    "\n",
    "今回学習した「最小二乗法」を使って、重みとバイアスの部分を求めてみましょう。"
   ]
  },
  {
   "cell_type": "markdown",
   "metadata": {},
   "source": [
    "### 2.1 ライブラリの読み込み\n",
    "\n",
    "今回必要になるライブラリをインポートします。\n",
    "\n",
    "- Pandas : データ操作用ライブラリ\n",
    "- Scikit-learn(sklearn) : データの準備ライブラリ"
   ]
  },
  {
   "cell_type": "code",
   "execution_count": 14,
   "metadata": {},
   "outputs": [],
   "source": [
    "import pandas as pd\n",
    "\n",
    "from sklearn.datasets import load_boston"
   ]
  },
  {
   "cell_type": "markdown",
   "metadata": {},
   "source": [
    "### 2.2 データの読み込み\n",
    "\n",
    "今回も「ボストンの住宅価格」データを取得していきます。\n",
    "<table style=\"border-collapse: collapse; width: 100%;\" border=\"1\">\n",
    "<tbody>\n",
    "<tr>\n",
    "<td style=\"width: 38.9855%; background-color: #28467a; text-align: center;\"><span style=\"font-size: 14px;\"><strong><span style=\"color: #ffffff;\">変数名</span></strong></span></td>\n",
    "<td style=\"width: 61.0145%; background-color: #28467a; text-align: center;\"><span style=\"font-size: 14px;\"><strong><span style=\"color: #ffffff;\">データの説明</span></strong></span></td>\n",
    "</tr>\n",
    "<tr>\n",
    "<td style=\"width: 38.9855%; text-align: center;\"><span style=\"font-size: 14px;\">CRIM</span></td>\n",
    "<td style=\"width: 61.0145%; text-align: center;\"><span style=\"font-size: 14px;\">犯罪発生率</span></td>\n",
    "</tr>\n",
    "<tr>\n",
    "<td style=\"width: 38.9855%; text-align: center;\"><span style=\"font-size: 14px;\">ZN</span></td>\n",
    "<td style=\"width: 61.0145%; text-align: center;\"><span style=\"font-size: 14px;\">住居区画の密集度</span></td>\n",
    "</tr>\n",
    "<tr>\n",
    "<td style=\"width: 38.9855%; text-align: center;\"><span style=\"font-size: 14px;\">INDUS</span></td>\n",
    "<td style=\"width: 61.0145%; text-align: center;\"><span style=\"font-size: 14px;\">非小売業の土地割合</span></td>\n",
    "</tr>\n",
    "<tr>\n",
    "<td style=\"width: 38.9855%; text-align: center;\"><span style=\"font-size: 14px;\">CHAS</span></td>\n",
    "<td style=\"width: 61.0145%; text-align: center;\"><span style=\"font-size: 14px;\">チャールズ川の周辺か否か</span></td>\n",
    "</tr>\n",
    "<tr>\n",
    "<td style=\"width: 38.9855%; text-align: center;\"><span style=\"font-size: 14px;\">NOX</span></td>\n",
    "<td style=\"width: 61.0145%; text-align: center;\"><span style=\"font-size: 14px;\">NOx濃度</span></td>\n",
    "</tr>\n",
    "<tr>\n",
    "<td style=\"width: 38.9855%; text-align: center;\"><span style=\"font-size: 14px;\">RM</span></td>\n",
    "<td style=\"width: 61.0145%; text-align: center;\"><span style=\"font-size: 14px;\">住居に含まれる平均部屋数</span></td>\n",
    "</tr>\n",
    "<tr>\n",
    "<td style=\"width: 38.9855%; text-align: center;\"><span style=\"font-size: 14px;\">AGE</span></td>\n",
    "<td style=\"width: 61.0145%; text-align: center;\"><span style=\"font-size: 14px;\">1940年より前に建てられた物件の割合</span></td>\n",
    "</tr>\n",
    "<tr>\n",
    "<td style=\"width: 38.9855%; text-align: center;\"><span style=\"font-size: 14px;\">DIS</span></td>\n",
    "<td style=\"width: 61.0145%; text-align: center;\"><span style=\"font-size: 14px;\">ボストン市の5つの雇用施設からの重み付き距離</span></td>\n",
    "</tr>\n",
    "<tr>\n",
    "<td style=\"width: 38.9855%; text-align: center;\"><span style=\"font-size: 14px;\">RAD</span></td>\n",
    "<td style=\"width: 61.0145%; text-align: center;\"><span style=\"font-size: 14px;\">大きな道路へのアクセスのしやすさ</span></td>\n",
    "</tr>\n",
    "<tr>\n",
    "<td style=\"width: 38.9855%; text-align: center;\"><span style=\"font-size: 14px;\">TAX</span></td>\n",
    "<td style=\"width: 61.0145%; text-align: center;\"><span style=\"font-size: 14px;\">1万ドルあたりの不動産税率の総計</span></td>\n",
    "</tr>\n",
    "<tr>\n",
    "<td style=\"width: 38.9855%; text-align: center;\"><span style=\"font-size: 14px;\">PTRATIO</span></td>\n",
    "<td style=\"width: 61.0145%; text-align: center;\"><span style=\"font-size: 14px;\">教師あたりの生徒数</span></td>\n",
    "</tr>\n",
    "<tr>\n",
    "<td style=\"width: 38.9855%; text-align: center;\"><span style=\"font-size: 14px;\">B</span></td>\n",
    "<td style=\"width: 61.0145%; text-align: center;\"><span style=\"font-size: 14px;\">対象地域に住む黒人の比率</span></td>\n",
    "</tr>\n",
    "<tr>\n",
    "<td style=\"width: 38.9855%; text-align: center;\"><span style=\"font-size: 14px;\">LSTAT</span></td>\n",
    "<td style=\"width: 61.0145%; text-align: center;\"><span style=\"font-size: 14px;\">低所得者の割合</span></td>\n",
    "</tr>\n",
    "</tbody>\n",
    "</table>\n"
   ]
  },
  {
   "cell_type": "code",
   "execution_count": 4,
   "metadata": {},
   "outputs": [
    {
     "data": {
      "text/html": [
       "<div>\n",
       "<style scoped>\n",
       "    .dataframe tbody tr th:only-of-type {\n",
       "        vertical-align: middle;\n",
       "    }\n",
       "\n",
       "    .dataframe tbody tr th {\n",
       "        vertical-align: top;\n",
       "    }\n",
       "\n",
       "    .dataframe thead th {\n",
       "        text-align: right;\n",
       "    }\n",
       "</style>\n",
       "<table border=\"1\" class=\"dataframe\">\n",
       "  <thead>\n",
       "    <tr style=\"text-align: right;\">\n",
       "      <th></th>\n",
       "      <th>CRIM</th>\n",
       "      <th>ZN</th>\n",
       "      <th>INDUS</th>\n",
       "      <th>CHAS</th>\n",
       "      <th>NOX</th>\n",
       "      <th>RM</th>\n",
       "      <th>AGE</th>\n",
       "      <th>DIS</th>\n",
       "      <th>RAD</th>\n",
       "      <th>TAX</th>\n",
       "      <th>PTRATIO</th>\n",
       "      <th>B</th>\n",
       "      <th>LSTAT</th>\n",
       "      <th>MEDV</th>\n",
       "    </tr>\n",
       "  </thead>\n",
       "  <tbody>\n",
       "    <tr>\n",
       "      <th>0</th>\n",
       "      <td>0.00632</td>\n",
       "      <td>18.0</td>\n",
       "      <td>2.31</td>\n",
       "      <td>0.0</td>\n",
       "      <td>0.538</td>\n",
       "      <td>6.575</td>\n",
       "      <td>65.2</td>\n",
       "      <td>4.0900</td>\n",
       "      <td>1.0</td>\n",
       "      <td>296.0</td>\n",
       "      <td>15.3</td>\n",
       "      <td>396.90</td>\n",
       "      <td>4.98</td>\n",
       "      <td>24.0</td>\n",
       "    </tr>\n",
       "    <tr>\n",
       "      <th>1</th>\n",
       "      <td>0.02731</td>\n",
       "      <td>0.0</td>\n",
       "      <td>7.07</td>\n",
       "      <td>0.0</td>\n",
       "      <td>0.469</td>\n",
       "      <td>6.421</td>\n",
       "      <td>78.9</td>\n",
       "      <td>4.9671</td>\n",
       "      <td>2.0</td>\n",
       "      <td>242.0</td>\n",
       "      <td>17.8</td>\n",
       "      <td>396.90</td>\n",
       "      <td>9.14</td>\n",
       "      <td>21.6</td>\n",
       "    </tr>\n",
       "    <tr>\n",
       "      <th>2</th>\n",
       "      <td>0.02729</td>\n",
       "      <td>0.0</td>\n",
       "      <td>7.07</td>\n",
       "      <td>0.0</td>\n",
       "      <td>0.469</td>\n",
       "      <td>7.185</td>\n",
       "      <td>61.1</td>\n",
       "      <td>4.9671</td>\n",
       "      <td>2.0</td>\n",
       "      <td>242.0</td>\n",
       "      <td>17.8</td>\n",
       "      <td>392.83</td>\n",
       "      <td>4.03</td>\n",
       "      <td>34.7</td>\n",
       "    </tr>\n",
       "    <tr>\n",
       "      <th>3</th>\n",
       "      <td>0.03237</td>\n",
       "      <td>0.0</td>\n",
       "      <td>2.18</td>\n",
       "      <td>0.0</td>\n",
       "      <td>0.458</td>\n",
       "      <td>6.998</td>\n",
       "      <td>45.8</td>\n",
       "      <td>6.0622</td>\n",
       "      <td>3.0</td>\n",
       "      <td>222.0</td>\n",
       "      <td>18.7</td>\n",
       "      <td>394.63</td>\n",
       "      <td>2.94</td>\n",
       "      <td>33.4</td>\n",
       "    </tr>\n",
       "    <tr>\n",
       "      <th>4</th>\n",
       "      <td>0.06905</td>\n",
       "      <td>0.0</td>\n",
       "      <td>2.18</td>\n",
       "      <td>0.0</td>\n",
       "      <td>0.458</td>\n",
       "      <td>7.147</td>\n",
       "      <td>54.2</td>\n",
       "      <td>6.0622</td>\n",
       "      <td>3.0</td>\n",
       "      <td>222.0</td>\n",
       "      <td>18.7</td>\n",
       "      <td>396.90</td>\n",
       "      <td>5.33</td>\n",
       "      <td>36.2</td>\n",
       "    </tr>\n",
       "  </tbody>\n",
       "</table>\n",
       "</div>"
      ],
      "text/plain": [
       "      CRIM    ZN  INDUS  CHAS    NOX     RM   AGE     DIS  RAD    TAX  \\\n",
       "0  0.00632  18.0   2.31   0.0  0.538  6.575  65.2  4.0900  1.0  296.0   \n",
       "1  0.02731   0.0   7.07   0.0  0.469  6.421  78.9  4.9671  2.0  242.0   \n",
       "2  0.02729   0.0   7.07   0.0  0.469  7.185  61.1  4.9671  2.0  242.0   \n",
       "3  0.03237   0.0   2.18   0.0  0.458  6.998  45.8  6.0622  3.0  222.0   \n",
       "4  0.06905   0.0   2.18   0.0  0.458  7.147  54.2  6.0622  3.0  222.0   \n",
       "\n",
       "   PTRATIO       B  LSTAT  MEDV  \n",
       "0     15.3  396.90   4.98  24.0  \n",
       "1     17.8  396.90   9.14  21.6  \n",
       "2     17.8  392.83   4.03  34.7  \n",
       "3     18.7  394.63   2.94  33.4  \n",
       "4     18.7  396.90   5.33  36.2  "
      ]
     },
     "execution_count": 4,
     "metadata": {},
     "output_type": "execute_result"
    }
   ],
   "source": [
    "boston = load_boston()\n",
    "df = pd.DataFrame(boston.data, columns=boston.feature_names)\n",
    "df['MEDV'] = boston.target\n",
    "\n",
    "df.head()"
   ]
  },
  {
   "cell_type": "markdown",
   "metadata": {},
   "source": [
    "前回の単回帰モデルでは、RM(=住宅に含まれる平均部屋数)とMEDV(=住宅価格)を使っていました。\n",
    "\n",
    "今回の最小二乗法の計算でも、この2つだけ使っていきます。\n"
   ]
  },
  {
   "cell_type": "markdown",
   "metadata": {},
   "source": [
    "### 2.3 データの準備\n",
    "\n",
    "それでは、単回帰モデルの実装と同じ変数だけ抽出します。\n",
    "\n",
    "特徴量(=機械学習で使う変数)はRM、予測対象はMEDVでしたね。"
   ]
  },
  {
   "cell_type": "code",
   "execution_count": 5,
   "metadata": {},
   "outputs": [
    {
     "name": "stdout",
     "output_type": "stream",
     "text": [
      "RMのデータ数: (506,)\n",
      "MEDVのデータ数: (506,)\n"
     ]
    }
   ],
   "source": [
    "x = df['RM']\n",
    "y = df['MEDV']\n",
    "\n",
    "print('RMのデータ数:', x.shape)\n",
    "print('MEDVのデータ数:', y.shape)"
   ]
  },
  {
   "cell_type": "markdown",
   "metadata": {},
   "source": [
    "### 2.4 実際に計算する\n",
    "\n",
    "それでは、実際に計算していきましょう。$w$と$b$に必要な値を求めていきます。\n",
    "\n",
    "$$\n",
    "\\begin{eqnarray}\n",
    "w &=& \\frac{\\bar{xy}  - \\bar{y} \\times \\bar{x}}{\\left(\\bar{x^2} - \\bar{x} \\times \\bar{x} \\right)}\\\\\n",
    "b &=& \\bar{y} - w \\bar{x}\n",
    "\\end{eqnarray}\n",
    "$$\n",
    "\n"
   ]
  },
  {
   "cell_type": "code",
   "execution_count": 6,
   "metadata": {},
   "outputs": [
    {
     "name": "stdout",
     "output_type": "stream",
     "text": [
      "(506, 2)\n"
     ]
    },
    {
     "data": {
      "text/html": [
       "<div>\n",
       "<style scoped>\n",
       "    .dataframe tbody tr th:only-of-type {\n",
       "        vertical-align: middle;\n",
       "    }\n",
       "\n",
       "    .dataframe tbody tr th {\n",
       "        vertical-align: top;\n",
       "    }\n",
       "\n",
       "    .dataframe thead th {\n",
       "        text-align: right;\n",
       "    }\n",
       "</style>\n",
       "<table border=\"1\" class=\"dataframe\">\n",
       "  <thead>\n",
       "    <tr style=\"text-align: right;\">\n",
       "      <th></th>\n",
       "      <th>x</th>\n",
       "      <th>y</th>\n",
       "    </tr>\n",
       "  </thead>\n",
       "  <tbody>\n",
       "    <tr>\n",
       "      <th>0</th>\n",
       "      <td>6.575</td>\n",
       "      <td>24.0</td>\n",
       "    </tr>\n",
       "    <tr>\n",
       "      <th>1</th>\n",
       "      <td>6.421</td>\n",
       "      <td>21.6</td>\n",
       "    </tr>\n",
       "    <tr>\n",
       "      <th>2</th>\n",
       "      <td>7.185</td>\n",
       "      <td>34.7</td>\n",
       "    </tr>\n",
       "    <tr>\n",
       "      <th>3</th>\n",
       "      <td>6.998</td>\n",
       "      <td>33.4</td>\n",
       "    </tr>\n",
       "    <tr>\n",
       "      <th>4</th>\n",
       "      <td>7.147</td>\n",
       "      <td>36.2</td>\n",
       "    </tr>\n",
       "  </tbody>\n",
       "</table>\n",
       "</div>"
      ],
      "text/plain": [
       "       x     y\n",
       "0  6.575  24.0\n",
       "1  6.421  21.6\n",
       "2  7.185  34.7\n",
       "3  6.998  33.4\n",
       "4  7.147  36.2"
      ]
     },
     "execution_count": 6,
     "metadata": {},
     "output_type": "execute_result"
    }
   ],
   "source": [
    "calc_df = pd.DataFrame({'x':x, 'y':y})\n",
    "print(calc_df.shape)\n",
    "calc_df.head()"
   ]
  },
  {
   "cell_type": "code",
   "execution_count": 7,
   "metadata": {},
   "outputs": [],
   "source": [
    "calc_df = calc_df.assign(\n",
    "    x2 = lambda df:df.x*df.x,\n",
    "    xy = lambda df:df.x*df.y\n",
    ")"
   ]
  },
  {
   "cell_type": "code",
   "execution_count": 8,
   "metadata": {},
   "outputs": [
    {
     "data": {
      "text/html": [
       "<div>\n",
       "<style scoped>\n",
       "    .dataframe tbody tr th:only-of-type {\n",
       "        vertical-align: middle;\n",
       "    }\n",
       "\n",
       "    .dataframe tbody tr th {\n",
       "        vertical-align: top;\n",
       "    }\n",
       "\n",
       "    .dataframe thead th {\n",
       "        text-align: right;\n",
       "    }\n",
       "</style>\n",
       "<table border=\"1\" class=\"dataframe\">\n",
       "  <thead>\n",
       "    <tr style=\"text-align: right;\">\n",
       "      <th></th>\n",
       "      <th>x</th>\n",
       "      <th>y</th>\n",
       "      <th>x2</th>\n",
       "      <th>xy</th>\n",
       "    </tr>\n",
       "  </thead>\n",
       "  <tbody>\n",
       "    <tr>\n",
       "      <th>0</th>\n",
       "      <td>6.575</td>\n",
       "      <td>24.0</td>\n",
       "      <td>43.230625</td>\n",
       "      <td>157.8000</td>\n",
       "    </tr>\n",
       "    <tr>\n",
       "      <th>1</th>\n",
       "      <td>6.421</td>\n",
       "      <td>21.6</td>\n",
       "      <td>41.229241</td>\n",
       "      <td>138.6936</td>\n",
       "    </tr>\n",
       "    <tr>\n",
       "      <th>2</th>\n",
       "      <td>7.185</td>\n",
       "      <td>34.7</td>\n",
       "      <td>51.624225</td>\n",
       "      <td>249.3195</td>\n",
       "    </tr>\n",
       "    <tr>\n",
       "      <th>3</th>\n",
       "      <td>6.998</td>\n",
       "      <td>33.4</td>\n",
       "      <td>48.972004</td>\n",
       "      <td>233.7332</td>\n",
       "    </tr>\n",
       "    <tr>\n",
       "      <th>4</th>\n",
       "      <td>7.147</td>\n",
       "      <td>36.2</td>\n",
       "      <td>51.079609</td>\n",
       "      <td>258.7214</td>\n",
       "    </tr>\n",
       "  </tbody>\n",
       "</table>\n",
       "</div>"
      ],
      "text/plain": [
       "       x     y         x2        xy\n",
       "0  6.575  24.0  43.230625  157.8000\n",
       "1  6.421  21.6  41.229241  138.6936\n",
       "2  7.185  34.7  51.624225  249.3195\n",
       "3  6.998  33.4  48.972004  233.7332\n",
       "4  7.147  36.2  51.079609  258.7214"
      ]
     },
     "execution_count": 8,
     "metadata": {},
     "output_type": "execute_result"
    }
   ],
   "source": [
    "calc_df.head()"
   ]
  },
  {
   "cell_type": "code",
   "execution_count": 9,
   "metadata": {},
   "outputs": [],
   "source": [
    "x_mean = calc_df.x.mean()\n",
    "y_mean = calc_df.y.mean()\n",
    "x2_mean = calc_df.x2.mean()\n",
    "xy_mean = calc_df.xy.mean()"
   ]
  },
  {
   "cell_type": "code",
   "execution_count": 10,
   "metadata": {},
   "outputs": [
    {
     "name": "stdout",
     "output_type": "stream",
     "text": [
      "6.284634387351787\n",
      "22.532806324110698\n",
      "39.98932459881428\n",
      "146.09501501976288\n"
     ]
    }
   ],
   "source": [
    "print(x_mean)\n",
    "print(y_mean)\n",
    "print(x2_mean)\n",
    "print(xy_mean)"
   ]
  },
  {
   "cell_type": "code",
   "execution_count": 11,
   "metadata": {},
   "outputs": [
    {
     "name": "stdout",
     "output_type": "stream",
     "text": [
      "9.102108981180658\n"
     ]
    }
   ],
   "source": [
    "w = (xy_mean - x_mean*y_mean)/(x2_mean - x_mean * x_mean)\n",
    "print(w)"
   ]
  },
  {
   "cell_type": "code",
   "execution_count": 12,
   "metadata": {},
   "outputs": [
    {
     "name": "stdout",
     "output_type": "stream",
     "text": [
      "-34.6706207764408\n"
     ]
    }
   ],
   "source": [
    "b = y_mean - w * x_mean\n",
    "print(b)"
   ]
  },
  {
   "cell_type": "markdown",
   "metadata": {},
   "source": [
    "最小二乗法の式で$w$と$b$を求めてみました。\n",
    "\n",
    "プログラムで出力したときは$y =  -36.476 + 9.3764 x$でしたが、手計算で計算すると若干の誤差が生じますね。\n",
    "\n",
    "これはコンピューターの問題なので、気にしなくて大丈夫です。\n",
    "\n",
    "このような面倒な計算を、機械学習ライブラリ`Scikit-learn`を使えば自動的に計算してくれます。ライブラリは偉大ですね。"
   ]
  },
  {
   "cell_type": "code",
   "execution_count": 13,
   "metadata": {},
   "outputs": [
    {
     "name": "stdout",
     "output_type": "stream",
     "text": [
      "[NbConvertApp] Converting notebook ml03_least_squares_method.ipynb to script\n",
      "[NbConvertApp] Writing 11896 bytes to ml03_least_squares_method.py\n"
     ]
    }
   ],
   "source": [
    "#notebookをpythonファイルに変換\n",
    "# ! jupyter nbconvert --to script ml03_least_squares_method.ipynb"
   ]
  }
 ],
 "metadata": {
  "kernelspec": {
   "display_name": "Python 3",
   "language": "python",
   "name": "python3"
  },
  "language_info": {
   "codemirror_mode": {
    "name": "ipython",
    "version": 3
   },
   "file_extension": ".py",
   "mimetype": "text/x-python",
   "name": "python",
   "nbconvert_exporter": "python",
   "pygments_lexer": "ipython3",
   "version": "3.7.3"
  }
 },
 "nbformat": 4,
 "nbformat_minor": 2
}
