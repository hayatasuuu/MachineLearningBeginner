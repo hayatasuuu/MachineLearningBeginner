{
 "cells": [
  {
   "cell_type": "markdown",
   "metadata": {},
   "source": [
    "# §2. 線形回帰・単回帰モデル\n",
    "\n",
    "今回は、線形回帰・単回帰モデルについて学習していきます。"
   ]
  },
  {
   "cell_type": "markdown",
   "metadata": {},
   "source": [
    "## 1. 線形回帰・単回帰モデルについて\n",
    "\n",
    "### 1.1. 線形回帰・単回帰モデルとは？\n",
    "\n",
    "線形回帰・単回帰モデルとは、あるデータ$x$から対象$y$を予測することです。数式で表すと、以下のようになります。\n",
    "\n",
    "$$y = w_0 + w_1 x_1$$\n",
    "\n",
    "よく見ると、中学生のときに習った一次関数$y = ax + b$の形をしていますよね。つまり、線形回帰・単回帰モデルとは、**直線を使って変数$x$から対象$y$を予測すること**です。\n",
    "\n",
    "たとえば、$x$と$y$を以下のようにしましょう。\n",
    "\n",
    "- $x$ : 気温\n",
    "- $y$ : アイスクリームの売上\n",
    "\n",
    "具体的な数字も、仮で作成してみました。\n",
    "\n",
    "<table border=\"1\">\n",
    "    <tr>\n",
    "      <th>気温</th>\n",
    "      <th>アイスクリームの売上</th>\n",
    "    </tr>\n",
    "    <tr>\n",
    "      <td>28</td>\n",
    "      <td>10</td>\n",
    "    </tr>\n",
    "    <tr>\n",
    "      <td>26</td>\n",
    "      <td>9</td>\n",
    "    </tr>\n",
    "    <tr>\n",
    "      <td>20</td>\n",
    "      <td>4</td>\n",
    "    </tr>\n",
    "    <tr>\n",
    "      <td>24</td>\n",
    "      <td>7</td>\n",
    "    </tr>\n",
    "    <tr>\n",
    "      <td>22</td>\n",
    "      <td>5</td>\n",
    "    </tr>\n",
    "</table>\n",
    "\n",
    "上記の表に入っているデータを実際に可視化してみると、なんとなく\"右肩上がりの直線\"が引けそうですよね。"
   ]
  },
  {
   "cell_type": "code",
   "execution_count": 7,
   "metadata": {},
   "outputs": [],
   "source": [
    "import pandas as pd\n",
    "import matplotlib.pyplot as plt\n",
    "import seaborn as sns\n",
    "\n",
    "%matplotlib inline\n",
    "sns.set()"
   ]
  },
  {
   "cell_type": "code",
   "execution_count": 43,
   "metadata": {},
   "outputs": [
    {
     "data": {
      "image/png": "[encoded data removed]",
      "text/plain": [
       "<Figure size 720x432 with 1 Axes>"
      ]
     },
     "metadata": {
      "needs_background": "light"
     },
     "output_type": "display_data"
    }
   ],
   "source": [
    "df = pd.DataFrame({'temperature':[28, 26, 20, 24, 22], 'sell':[10, 9, 4, 7, 5]})\n",
    "\n",
    "plt.figure(figsize=(10, 6))\n",
    "sns.scatterplot(x=df.temperature, y=df.sell)\n",
    "plt.show()"
   ]
  },
  {
   "cell_type": "markdown",
   "metadata": {},
   "source": [
    "これを**直線を使って予測するのが、単回帰モデル**です。\n",
    "\n",
    "実際には完璧に直線で表すことはできないので、**各点からなるべく近い位置を通る直線**を引くことになります。\n",
    "\n",
    "そして、各点からなるべく近い位置を通る直線を求めるのに必要なアクションは、**『$y = w_0 + w_1 x_1$の$w_0$と$w_1$を求めること』**です。"
   ]
  },
  {
   "cell_type": "markdown",
   "metadata": {},
   "source": [
    "### 1.2. 線形回帰の「線形」とは？\n",
    "\n",
    "今回学習する単回帰モデルや、次回扱っていく重回帰モデルは「線形」です。\n",
    "\n",
    "たとえば、以下で表される数式も「線形」です。\n",
    "\n",
    "$$y = \\sum_{i=1}^{n} w_i x_i$$\n",
    "\n",
    "$\\sum$ はシグマといって、\"足し合わせる\"という意味の記号です。\n",
    "\n",
    "なので、シグマを外すと、以下のような式になります。\n",
    "\n",
    "$$y = w_1 x_1 + w_2 x_2 + \\cdots + w_n x_n  \\tag{1}$$\n",
    "\n",
    "そして、この式の$n = 2$ で $x_1 = 1$ の場合が「単回帰モデル」の式になります。\n",
    "\n",
    "「線形」の細かい定義は少し難しいので省略してOKです。ざっくりしたイメージでいうと、**単回帰モデルを含む、式(1)の形で表せる数式は線形**になります。"
   ]
  },
  {
   "cell_type": "markdown",
   "metadata": {},
   "source": [
    "### 1.3. 式(1)が線形になる理由\n",
    "\n",
    "*少し難しいので、スキップしても大丈夫な部分です。*\n",
    "\n",
    "「線形」の定義は、以下を満たす数式になります。\n",
    "\n",
    "- ①$f(x+y)=f(x)+f(y)$\n",
    "- ②$f(kx)=kf(x)$　($k$:実数)\n",
    "\n",
    "上記を満たす場合、その数式を線形と呼びます。\n",
    "\n",
    "さっそく、$f(x) = \\displaystyle \\sum_{i=1}^{n} w_i x_i$が線形になるのか確認してみます。\n",
    "\n",
    "####  ①$f(x+y)=f(x)+f(y)$の場合：\n",
    "\n",
    "$$\n",
    "\\begin{eqnarray}\n",
    "f(x + y) &=&  w_1 (x_1 + y_1) + w_2 (x_2 + y_2) + \\cdots + w_n (x_n + y_n)\\\\\n",
    "&=& w_1 x_1 + w_1 y_1 + w_2 x_2 + w_2 y_2 + \\cdots + w_n x_n + w_n y_n\\\\\n",
    "&=& (w_1 x_1 + w_2 x_2 + \\cdots + w_n x_n) + (w_1 y_1 + w_2 y_2 + \\cdots  + w_n y_n)\\\\\n",
    "&=&f(x) + f(y)\n",
    "\\end{eqnarray}\n",
    "$$\n",
    "\n",
    "上記のように式展開してあげれば、①の条件が成り立ちますね。\n",
    "\n",
    "####  ②$f(kx)=kf(x)$　($k$:実数)の場合：\n",
    "\n",
    "$$\n",
    "\\begin{eqnarray}\n",
    "f(kx) &=& w_1 (k x_1) + w_2 (k x_2) + \\cdots + w_n (k x_n)\\\\\n",
    "&=& k w_1  x_1 + k w_2  x_2 + \\cdots + k w_n  x_n\\\\\n",
    "&=& k(w_1 x_1 + w_2 x_2 + \\cdots + w_n x_n )\\\\\n",
    "&=& kf(x)\n",
    "\\end{eqnarray}\n",
    "$$\n",
    "\n",
    "こちらも同様に、丁寧な式展開をすれば、条件②を満たしていることが分かります。\n",
    "\n",
    "なので、単回帰モデルを含む$f(x) = \\displaystyle \\sum_{i=1}^{n} w_i x_i$は、線形になります。\n",
    "\n",
    "*※ちなみに、単回帰モデルは$n=2$の場合ですが、$n \\geq 3$の場合を重回帰モデルと言います。\n",
    "詳細は次回解説しますが、上の照明により重回帰モデルも線形になります。*"
   ]
  },
  {
   "cell_type": "markdown",
   "metadata": {},
   "source": [
    "## 2. 線形回帰・単回帰モデルの実装\n",
    "\n",
    "単回帰モデルの概要が分かったところで、さっそく実装をしていきましょう。\n",
    "\n",
    "実装は以下の手順で進めていきます。\n",
    "\n",
    "- STEP① : ライブラリの読み込み\n",
    "- STEP② : データの読み込み\n",
    "- STEP③ : データの準備\n",
    "- STEP④ : 単回帰モデルの作成と評価"
   ]
  },
  {
   "cell_type": "markdown",
   "metadata": {},
   "source": [
    "### 2.1 ライブラリの読み込み\n",
    "\n",
    "今回必要になるライブラリをインポートします。\n",
    "\n",
    "- numpy : 配列計算用ライブラリ\n",
    "- pandas : データ操作用ライブラリ\n",
    "- scikit-learn(sklearn) : データの準備・機械学習モデルの作成用ライブラリ\n",
    "- matplotlib : 作図用ライブラリ①\n",
    "- seaborn : 作図用ライブラリ②"
   ]
  },
  {
   "cell_type": "code",
   "execution_count": 12,
   "metadata": {},
   "outputs": [],
   "source": [
    "import numpy as np\n",
    "import pandas as pd\n",
    "\n",
    "from sklearn.datasets import load_boston\n",
    "from sklearn.linear_model import LinearRegression\n",
    "from sklearn.model_selection import train_test_split\n",
    "from sklearn.preprocessing import PolynomialFeatures\n",
    "\n",
    "import matplotlib.pyplot as plt\n",
    "import seaborn as sns\n",
    "\n",
    "sns.set()\n",
    "sns.set_style(\"ticks\")\n",
    "\n",
    "%matplotlib inline"
   ]
  },
  {
   "cell_type": "markdown",
   "metadata": {},
   "source": [
    "### 2.2 データの読み込み\n",
    "\n",
    "今回は、「ボストンの住宅価格」を使って、単回帰モデルの実装をおこなっていきます。\n",
    "\n",
    "データの中身は、以下の表のとおりです。\n",
    "\n",
    "<table style=\"border-collapse: collapse; width: 100%;\" border=\"1\">\n",
    "<tbody>\n",
    "<tr>\n",
    "<td style=\"width: 38.9855%; background-color: #28467a; text-align: center;\"><span style=\"font-size: 14px;\"><strong><span style=\"color: #ffffff;\">変数名</span></strong></span></td>\n",
    "<td style=\"width: 61.0145%; background-color: #28467a; text-align: center;\"><span style=\"font-size: 14px;\"><strong><span style=\"color: #ffffff;\">データの説明</span></strong></span></td>\n",
    "</tr>\n",
    "<tr>\n",
    "<td style=\"width: 38.9855%; text-align: center;\"><span style=\"font-size: 14px;\">CRIM</span></td>\n",
    "<td style=\"width: 61.0145%; text-align: center;\"><span style=\"font-size: 14px;\">犯罪発生率</span></td>\n",
    "</tr>\n",
    "<tr>\n",
    "<td style=\"width: 38.9855%; text-align: center;\"><span style=\"font-size: 14px;\">ZN</span></td>\n",
    "<td style=\"width: 61.0145%; text-align: center;\"><span style=\"font-size: 14px;\">住居区画の密集度</span></td>\n",
    "</tr>\n",
    "<tr>\n",
    "<td style=\"width: 38.9855%; text-align: center;\"><span style=\"font-size: 14px;\">INDUS</span></td>\n",
    "<td style=\"width: 61.0145%; text-align: center;\"><span style=\"font-size: 14px;\">非小売業の土地割合</span></td>\n",
    "</tr>\n",
    "<tr>\n",
    "<td style=\"width: 38.9855%; text-align: center;\"><span style=\"font-size: 14px;\">CHAS</span></td>\n",
    "<td style=\"width: 61.0145%; text-align: center;\"><span style=\"font-size: 14px;\">チャールズ川の周辺か否か</span></td>\n",
    "</tr>\n",
    "<tr>\n",
    "<td style=\"width: 38.9855%; text-align: center;\"><span style=\"font-size: 14px;\">NOX</span></td>\n",
    "<td style=\"width: 61.0145%; text-align: center;\"><span style=\"font-size: 14px;\">NOx濃度</span></td>\n",
    "</tr>\n",
    "<tr>\n",
    "<td style=\"width: 38.9855%; text-align: center;\"><span style=\"font-size: 14px;\">RM</span></td>\n",
    "<td style=\"width: 61.0145%; text-align: center;\"><span style=\"font-size: 14px;\">住居に含まれる平均部屋数</span></td>\n",
    "</tr>\n",
    "<tr>\n",
    "<td style=\"width: 38.9855%; text-align: center;\"><span style=\"font-size: 14px;\">AGE</span></td>\n",
    "<td style=\"width: 61.0145%; text-align: center;\"><span style=\"font-size: 14px;\">1940年より前に建てられた物件の割合</span></td>\n",
    "</tr>\n",
    "<tr>\n",
    "<td style=\"width: 38.9855%; text-align: center;\"><span style=\"font-size: 14px;\">DIS</span></td>\n",
    "<td style=\"width: 61.0145%; text-align: center;\"><span style=\"font-size: 14px;\">ボストン市の5つの雇用施設からの重み付き距離</span></td>\n",
    "</tr>\n",
    "<tr>\n",
    "<td style=\"width: 38.9855%; text-align: center;\"><span style=\"font-size: 14px;\">RAD</span></td>\n",
    "<td style=\"width: 61.0145%; text-align: center;\"><span style=\"font-size: 14px;\">大きな道路へのアクセスのしやすさ</span></td>\n",
    "</tr>\n",
    "<tr>\n",
    "<td style=\"width: 38.9855%; text-align: center;\"><span style=\"font-size: 14px;\">TAX</span></td>\n",
    "<td style=\"width: 61.0145%; text-align: center;\"><span style=\"font-size: 14px;\">1万ドルあたりの不動産税率の総計</span></td>\n",
    "</tr>\n",
    "<tr>\n",
    "<td style=\"width: 38.9855%; text-align: center;\"><span style=\"font-size: 14px;\">PTRATIO</span></td>\n",
    "<td style=\"width: 61.0145%; text-align: center;\"><span style=\"font-size: 14px;\">教師あたりの生徒数</span></td>\n",
    "</tr>\n",
    "<tr>\n",
    "<td style=\"width: 38.9855%; text-align: center;\"><span style=\"font-size: 14px;\">B</span></td>\n",
    "<td style=\"width: 61.0145%; text-align: center;\"><span style=\"font-size: 14px;\">対象地域に住む黒人の比率</span></td>\n",
    "</tr>\n",
    "<tr>\n",
    "<td style=\"width: 38.9855%; text-align: center;\"><span style=\"font-size: 14px;\">LSTAT</span></td>\n",
    "<td style=\"width: 61.0145%; text-align: center;\"><span style=\"font-size: 14px;\">低所得者の割合</span></td>\n",
    "</tr>\n",
    "</tbody>\n",
    "</table>\n",
    "\n",
    "上記の表に入っているデータを使って、住宅価格=MEDVを予測します。"
   ]
  },
  {
   "cell_type": "code",
   "execution_count": 14,
   "metadata": {},
   "outputs": [
    {
     "data": {
      "text/html": [
       "<div>\n",
       "<style scoped>\n",
       "    .dataframe tbody tr th:only-of-type {\n",
       "        vertical-align: middle;\n",
       "    }\n",
       "\n",
       "    .dataframe tbody tr th {\n",
       "        vertical-align: top;\n",
       "    }\n",
       "\n",
       "    .dataframe thead th {\n",
       "        text-align: right;\n",
       "    }\n",
       "</style>\n",
       "<table border=\"1\" class=\"dataframe\">\n",
       "  <thead>\n",
       "    <tr style=\"text-align: right;\">\n",
       "      <th></th>\n",
       "      <th>CRIM</th>\n",
       "      <th>ZN</th>\n",
       "      <th>INDUS</th>\n",
       "      <th>CHAS</th>\n",
       "      <th>NOX</th>\n",
       "      <th>RM</th>\n",
       "      <th>AGE</th>\n",
       "      <th>DIS</th>\n",
       "      <th>RAD</th>\n",
       "      <th>TAX</th>\n",
       "      <th>PTRATIO</th>\n",
       "      <th>B</th>\n",
       "      <th>LSTAT</th>\n",
       "      <th>MEDV</th>\n",
       "    </tr>\n",
       "  </thead>\n",
       "  <tbody>\n",
       "    <tr>\n",
       "      <th>0</th>\n",
       "      <td>0.00632</td>\n",
       "      <td>18.0</td>\n",
       "      <td>2.31</td>\n",
       "      <td>0.0</td>\n",
       "      <td>0.538</td>\n",
       "      <td>6.575</td>\n",
       "      <td>65.2</td>\n",
       "      <td>4.0900</td>\n",
       "      <td>1.0</td>\n",
       "      <td>296.0</td>\n",
       "      <td>15.3</td>\n",
       "      <td>396.90</td>\n",
       "      <td>4.98</td>\n",
       "      <td>24.0</td>\n",
       "    </tr>\n",
       "    <tr>\n",
       "      <th>1</th>\n",
       "      <td>0.02731</td>\n",
       "      <td>0.0</td>\n",
       "      <td>7.07</td>\n",
       "      <td>0.0</td>\n",
       "      <td>0.469</td>\n",
       "      <td>6.421</td>\n",
       "      <td>78.9</td>\n",
       "      <td>4.9671</td>\n",
       "      <td>2.0</td>\n",
       "      <td>242.0</td>\n",
       "      <td>17.8</td>\n",
       "      <td>396.90</td>\n",
       "      <td>9.14</td>\n",
       "      <td>21.6</td>\n",
       "    </tr>\n",
       "    <tr>\n",
       "      <th>2</th>\n",
       "      <td>0.02729</td>\n",
       "      <td>0.0</td>\n",
       "      <td>7.07</td>\n",
       "      <td>0.0</td>\n",
       "      <td>0.469</td>\n",
       "      <td>7.185</td>\n",
       "      <td>61.1</td>\n",
       "      <td>4.9671</td>\n",
       "      <td>2.0</td>\n",
       "      <td>242.0</td>\n",
       "      <td>17.8</td>\n",
       "      <td>392.83</td>\n",
       "      <td>4.03</td>\n",
       "      <td>34.7</td>\n",
       "    </tr>\n",
       "    <tr>\n",
       "      <th>3</th>\n",
       "      <td>0.03237</td>\n",
       "      <td>0.0</td>\n",
       "      <td>2.18</td>\n",
       "      <td>0.0</td>\n",
       "      <td>0.458</td>\n",
       "      <td>6.998</td>\n",
       "      <td>45.8</td>\n",
       "      <td>6.0622</td>\n",
       "      <td>3.0</td>\n",
       "      <td>222.0</td>\n",
       "      <td>18.7</td>\n",
       "      <td>394.63</td>\n",
       "      <td>2.94</td>\n",
       "      <td>33.4</td>\n",
       "    </tr>\n",
       "    <tr>\n",
       "      <th>4</th>\n",
       "      <td>0.06905</td>\n",
       "      <td>0.0</td>\n",
       "      <td>2.18</td>\n",
       "      <td>0.0</td>\n",
       "      <td>0.458</td>\n",
       "      <td>7.147</td>\n",
       "      <td>54.2</td>\n",
       "      <td>6.0622</td>\n",
       "      <td>3.0</td>\n",
       "      <td>222.0</td>\n",
       "      <td>18.7</td>\n",
       "      <td>396.90</td>\n",
       "      <td>5.33</td>\n",
       "      <td>36.2</td>\n",
       "    </tr>\n",
       "  </tbody>\n",
       "</table>\n",
       "</div>"
      ],
      "text/plain": [
       "      CRIM    ZN  INDUS  CHAS    NOX     RM   AGE     DIS  RAD    TAX  \\\n",
       "0  0.00632  18.0   2.31   0.0  0.538  6.575  65.2  4.0900  1.0  296.0   \n",
       "1  0.02731   0.0   7.07   0.0  0.469  6.421  78.9  4.9671  2.0  242.0   \n",
       "2  0.02729   0.0   7.07   0.0  0.469  7.185  61.1  4.9671  2.0  242.0   \n",
       "3  0.03237   0.0   2.18   0.0  0.458  6.998  45.8  6.0622  3.0  222.0   \n",
       "4  0.06905   0.0   2.18   0.0  0.458  7.147  54.2  6.0622  3.0  222.0   \n",
       "\n",
       "   PTRATIO       B  LSTAT  MEDV  \n",
       "0     15.3  396.90   4.98  24.0  \n",
       "1     17.8  396.90   9.14  21.6  \n",
       "2     17.8  392.83   4.03  34.7  \n",
       "3     18.7  394.63   2.94  33.4  \n",
       "4     18.7  396.90   5.33  36.2  "
      ]
     },
     "execution_count": 14,
     "metadata": {},
     "output_type": "execute_result"
    }
   ],
   "source": [
    "boston = load_boston()\n",
    "df = pd.DataFrame(boston.data, columns=boston.feature_names)\n",
    "df['MEDV'] = boston.target\n",
    "\n",
    "df.head()"
   ]
  },
  {
   "cell_type": "markdown",
   "metadata": {},
   "source": [
    "今回は、数ある変数の中から、RM(=住宅に含まれる平均部屋数)を使って、MEDV(=住宅価格)を予測しましょう。\n",
    "\n",
    "散布図を使って可視化しておくと、以下のようになります。"
   ]
  },
  {
   "cell_type": "code",
   "execution_count": 15,
   "metadata": {},
   "outputs": [
    {
     "data": {
      "image/png": "[encoded data removed]",
      "text/plain": [
       "<Figure size 720x432 with 1 Axes>"
      ]
     },
     "metadata": {
      "needs_background": "light"
     },
     "output_type": "display_data"
    }
   ],
   "source": [
    "plt.figure(figsize=(10, 6))\n",
    "sns.scatterplot(x=df.RM, y=df.MEDV, alpha=0.7)\n",
    "plt.show()"
   ]
  },
  {
   "cell_type": "markdown",
   "metadata": {},
   "source": [
    "こんな感じですね。直線でもうまく予測できていそうですが、「若干捉えきれていないかな」といった印象です。"
   ]
  },
  {
   "cell_type": "markdown",
   "metadata": {},
   "source": [
    "図の真ん中にデータが集中しており、なんとなく単回帰モデルを使って予測できそうですよね。"
   ]
  },
  {
   "cell_type": "markdown",
   "metadata": {},
   "source": [
    "### 2.3 データの準備\n",
    "\n",
    "それでは、単回帰モデルの実装で必要なデータの準備をしていきます。\n",
    "\n",
    "特徴量(=機械学習で使う変数)はRM、予測対象はMEDVですね。"
   ]
  },
  {
   "cell_type": "code",
   "execution_count": 16,
   "metadata": {},
   "outputs": [
    {
     "name": "stdout",
     "output_type": "stream",
     "text": [
      "----------特徴量とターゲットに分割----------\n",
      "X: (506, 1)\n",
      "y: (506,)\n"
     ]
    }
   ],
   "source": [
    "x = df['RM']\n",
    "X = np.array(x).reshape(-1, 1)\n",
    "y = df['MEDV']\n",
    "\n",
    "print('-'*10 + '特徴量とターゲットに分割' + '-'*10)\n",
    "print('X:', X.shape)\n",
    "print('y:', y.shape)"
   ]
  },
  {
   "cell_type": "markdown",
   "metadata": {},
   "source": [
    "特徴量とターゲットの組み合わせを、Scikit-learnに含まれている`train_test_split()`を使って学習用データとテスト用データに分割します。"
   ]
  },
  {
   "cell_type": "code",
   "execution_count": 17,
   "metadata": {},
   "outputs": [],
   "source": [
    "X_train, X_test, y_train, y_test = train_test_split(X, y, test_size=0.2, random_state=0)"
   ]
  },
  {
   "cell_type": "markdown",
   "metadata": {},
   "source": [
    "元々506行あったデータを、学習:テスト = 8:2で分割したので、以下のデータ数になります。\n",
    "- 学習用データ : 404\n",
    "- テスト用データ : 102"
   ]
  },
  {
   "cell_type": "code",
   "execution_count": 23,
   "metadata": {},
   "outputs": [
    {
     "name": "stdout",
     "output_type": "stream",
     "text": [
      "元データ (506, 1)\n",
      "学習用データ (404, 1)\n",
      "テスト用データ (102, 1)\n"
     ]
    }
   ],
   "source": [
    "print('元データ', X.shape)\n",
    "print('学習用データ', X_train.shape)\n",
    "print('テスト用データ', X_test.shape)"
   ]
  },
  {
   "cell_type": "markdown",
   "metadata": {},
   "source": [
    "### 2.4 単回帰モデルの作成と評価\n",
    "\n",
    "単回帰モデルを使うには、`LinearRegression()`を使います。\n",
    "\n",
    "そして、モデルの学習は`lm.fit()`を使うだけです。"
   ]
  },
  {
   "cell_type": "code",
   "execution_count": 27,
   "metadata": {},
   "outputs": [
    {
     "data": {
      "text/plain": [
       "LinearRegression(copy_X=True, fit_intercept=True, n_jobs=None, normalize=False)"
      ]
     },
     "execution_count": 27,
     "metadata": {},
     "output_type": "execute_result"
    }
   ],
   "source": [
    "lm = LinearRegression()\n",
    "lm.fit(X_train, y_train)"
   ]
  },
  {
   "cell_type": "markdown",
   "metadata": {},
   "source": [
    "これで単回帰モデルの作成が完了しました。\n",
    "\n",
    "あとは、学習結果を見てみましょう。`lm.score()`を使えばモデルの決定係数を確認できます。"
   ]
  },
  {
   "cell_type": "code",
   "execution_count": 29,
   "metadata": {},
   "outputs": [
    {
     "name": "stdout",
     "output_type": "stream",
     "text": [
      "Train Score：0.50\n",
      "Test Score：0.42\n"
     ]
    }
   ],
   "source": [
    "print('Train Score：{:.2f}' .format(lm.score(X_train, y_train)))\n",
    "print('Test Score：{:.2f}' .format(lm.score(X_test, y_test)))"
   ]
  },
  {
   "cell_type": "markdown",
   "metadata": {},
   "source": [
    "決定係数は、0〜1の値を取り、1に近い方が精度が良いという解釈になります。\n",
    "\n",
    "なので、今回作成したモデルは、そこまで良いモデルだとは言えないですね。"
   ]
  },
  {
   "cell_type": "markdown",
   "metadata": {},
   "source": [
    "ちなみに、**「良い単回帰モデルを作成する」とは、単回帰式$y = w_0 + w_1 x_1$に含まれる、$w_0$と$w_1$で最適な値を求めること**になります。\n",
    "\n",
    "つまり、**Scikit-learnを使って単回帰モデルを作成すると、$w_0$と$w_1$が求まっています。**\n",
    "\n",
    "*※ライブラリを使って計算しているので中身は見えませんが、実は色々なロジックに基づいて最適な$w_0$と$w_1$を計算しています。*\n",
    "\n",
    "実際に中身を確認してみると、以下のとおりです。"
   ]
  },
  {
   "cell_type": "code",
   "execution_count": 32,
   "metadata": {},
   "outputs": [
    {
     "name": "stdout",
     "output_type": "stream",
     "text": [
      "バイアス -36.47618962764734\n",
      "重み [9.37638431]\n"
     ]
    }
   ],
   "source": [
    "print('バイアス', lm.intercept_)\n",
    "print('重み', lm.coef_)"
   ]
  },
  {
   "cell_type": "markdown",
   "metadata": {},
   "source": [
    "バイアスと呼んでいるのが、$w_0$、重みと呼んでいるのが$w_1$です。\n",
    "\n",
    "数式で表すと、以下のようなモデルが完成したことになります。\n",
    "\n",
    "$$y =  -36.476 + 9.3764 x$$"
   ]
  },
  {
   "cell_type": "markdown",
   "metadata": {},
   "source": [
    "### 2.5 学習結果の可視化\n",
    "\n",
    "元データと、今回作成した単回帰モデルの予測結果を確認してみます。\n"
   ]
  },
  {
   "cell_type": "code",
   "execution_count": 35,
   "metadata": {},
   "outputs": [],
   "source": [
    "y_pred = lm.predict(X_test)"
   ]
  },
  {
   "cell_type": "code",
   "execution_count": 40,
   "metadata": {},
   "outputs": [
    {
     "data": {
      "image/png": "[encoded data removed]",
      "text/plain": [
       "<Figure size 720x432 with 1 Axes>"
      ]
     },
     "metadata": {
      "needs_background": "light"
     },
     "output_type": "display_data"
    }
   ],
   "source": [
    "plt.figure(figsize=(10, 6))\n",
    "sns.scatterplot(X.reshape(len(X), ), y, alpha=0.7)\n",
    "sns.lineplot(x=X_test.reshape(len(X_test), ), y=y_pred, linewidth=3, label='Simple Regression Model')\n",
    "plt.xlabel('RM')\n",
    "plt.ylabel('MEDV')\n",
    "plt.show()"
   ]
  },
  {
   "cell_type": "markdown",
   "metadata": {},
   "source": [
    "だいたい予測できていますが、中には全く予測できていないデータもありますね。\n",
    "\n",
    "このように、単回帰モデルはシンプルかつ直感的に分かりやすいモデルではありますが、そこまで正確に予測できるモデルではありません。\n",
    "\n"
   ]
  },
  {
   "cell_type": "code",
   "execution_count": 42,
   "metadata": {},
   "outputs": [
    {
     "name": "stdout",
     "output_type": "stream",
     "text": [
      "[NbConvertApp] Converting notebook ml02_linear_regression.ipynb to script\n",
      "[NbConvertApp] Writing 9688 bytes to ml02_linear_regression.py\n"
     ]
    }
   ],
   "source": [
    "#notebookをpythonファイルに変換\n",
    "# ! jupyter nbconvert --to script ml02_linear_regression.ipynb"
   ]
  }
 ],
 "metadata": {
  "kernelspec": {
   "display_name": "Python 3",
   "language": "python",
   "name": "python3"
  },
  "language_info": {
   "codemirror_mode": {
    "name": "ipython",
    "version": 3
   },
   "file_extension": ".py",
   "mimetype": "text/x-python",
   "name": "python",
   "nbconvert_exporter": "python",
   "pygments_lexer": "ipython3",
   "version": "3.7.3"
  }
 },
 "nbformat": 4,
 "nbformat_minor": 2
}
